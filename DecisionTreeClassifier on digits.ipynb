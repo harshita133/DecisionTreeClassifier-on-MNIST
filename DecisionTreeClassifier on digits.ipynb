{
 "cells": [
  {
   "cell_type": "code",
   "execution_count": 1,
   "metadata": {
    "collapsed": true
   },
   "outputs": [],
   "source": [
    "import numpy as np\n",
    "import matplotlib.pyplot as pt\n",
    "import pandas as pd"
   ]
  },
  {
   "cell_type": "code",
   "execution_count": 3,
   "metadata": {},
   "outputs": [],
   "source": [
    "from sklearn.tree import DecisionTreeClassifier"
   ]
  },
  {
   "cell_type": "code",
   "execution_count": 11,
   "metadata": {
    "collapsed": true
   },
   "outputs": [],
   "source": [
    "data = pd.read_csv(\"train.csv\").as_matrix()"
   ]
  },
  {
   "cell_type": "code",
   "execution_count": 6,
   "metadata": {},
   "outputs": [
    {
     "name": "stdout",
     "output_type": "stream",
     "text": [
      "       label  pixel0  pixel1  pixel2  pixel3  pixel4  pixel5  pixel6  pixel7  \\\n",
      "0          1       0       0       0       0       0       0       0       0   \n",
      "1          0       0       0       0       0       0       0       0       0   \n",
      "2          1       0       0       0       0       0       0       0       0   \n",
      "3          4       0       0       0       0       0       0       0       0   \n",
      "4          0       0       0       0       0       0       0       0       0   \n",
      "5          0       0       0       0       0       0       0       0       0   \n",
      "6          7       0       0       0       0       0       0       0       0   \n",
      "7          3       0       0       0       0       0       0       0       0   \n",
      "8          5       0       0       0       0       0       0       0       0   \n",
      "9          3       0       0       0       0       0       0       0       0   \n",
      "10         8       0       0       0       0       0       0       0       0   \n",
      "11         9       0       0       0       0       0       0       0       0   \n",
      "12         1       0       0       0       0       0       0       0       0   \n",
      "13         3       0       0       0       0       0       0       0       0   \n",
      "14         3       0       0       0       0       0       0       0       0   \n",
      "15         1       0       0       0       0       0       0       0       0   \n",
      "16         2       0       0       0       0       0       0       0       0   \n",
      "17         0       0       0       0       0       0       0       0       0   \n",
      "18         7       0       0       0       0       0       0       0       0   \n",
      "19         5       0       0       0       0       0       0       0       0   \n",
      "20         8       0       0       0       0       0       0       0       0   \n",
      "21         6       0       0       0       0       0       0       0       0   \n",
      "22         2       0       0       0       0       0       0       0       0   \n",
      "23         0       0       0       0       0       0       0       0       0   \n",
      "24         2       0       0       0       0       0       0       0       0   \n",
      "25         3       0       0       0       0       0       0       0       0   \n",
      "26         6       0       0       0       0       0       0       0       0   \n",
      "27         9       0       0       0       0       0       0       0       0   \n",
      "28         9       0       0       0       0       0       0       0       0   \n",
      "29         7       0       0       0       0       0       0       0       0   \n",
      "...      ...     ...     ...     ...     ...     ...     ...     ...     ...   \n",
      "41970      2       0       0       0       0       0       0       0       0   \n",
      "41971      3       0       0       0       0       0       0       0       0   \n",
      "41972      4       0       0       0       0       0       0       0       0   \n",
      "41973      4       0       0       0       0       0       0       0       0   \n",
      "41974      3       0       0       0       0       0       0       0       0   \n",
      "41975      9       0       0       0       0       0       0       0       0   \n",
      "41976      2       0       0       0       0       0       0       0       0   \n",
      "41977      4       0       0       0       0       0       0       0       0   \n",
      "41978      4       0       0       0       0       0       0       0       0   \n",
      "41979      4       0       0       0       0       0       0       0       0   \n",
      "41980      7       0       0       0       0       0       0       0       0   \n",
      "41981      2       0       0       0       0       0       0       0       0   \n",
      "41982      8       0       0       0       0       0       0       0       0   \n",
      "41983      7       0       0       0       0       0       0       0       0   \n",
      "41984      3       0       0       0       0       0       0       0       0   \n",
      "41985      3       0       0       0       0       0       0       0       0   \n",
      "41986      0       0       0       0       0       0       0       0       0   \n",
      "41987      5       0       0       0       0       0       0       0       0   \n",
      "41988      0       0       0       0       0       0       0       0       0   \n",
      "41989      5       0       0       0       0       0       0       0       0   \n",
      "41990      3       0       0       0       0       0       0       0       0   \n",
      "41991      1       0       0       0       0       0       0       0       0   \n",
      "41992      9       0       0       0       0       0       0       0       0   \n",
      "41993      6       0       0       0       0       0       0       0       0   \n",
      "41994      4       0       0       0       0       0       0       0       0   \n",
      "41995      0       0       0       0       0       0       0       0       0   \n",
      "41996      1       0       0       0       0       0       0       0       0   \n",
      "41997      7       0       0       0       0       0       0       0       0   \n",
      "41998      6       0       0       0       0       0       0       0       0   \n",
      "41999      9       0       0       0       0       0       0       0       0   \n",
      "\n",
      "       pixel8    ...     pixel774  pixel775  pixel776  pixel777  pixel778  \\\n",
      "0           0    ...            0         0         0         0         0   \n",
      "1           0    ...            0         0         0         0         0   \n",
      "2           0    ...            0         0         0         0         0   \n",
      "3           0    ...            0         0         0         0         0   \n",
      "4           0    ...            0         0         0         0         0   \n",
      "5           0    ...            0         0         0         0         0   \n",
      "6           0    ...            0         0         0         0         0   \n",
      "7           0    ...            0         0         0         0         0   \n",
      "8           0    ...            0         0         0         0         0   \n",
      "9           0    ...            0         0         0         0         0   \n",
      "10          0    ...            0         0         0         0         0   \n",
      "11          0    ...            0         0         0         0         0   \n",
      "12          0    ...            0         0         0         0         0   \n",
      "13          0    ...            0         0         0         0         0   \n",
      "14          0    ...            0         0         0         0         0   \n",
      "15          0    ...            0         0         0         0         0   \n",
      "16          0    ...            0         0         0         0         0   \n",
      "17          0    ...            0         0         0         0         0   \n",
      "18          0    ...            0         0         0         0         0   \n",
      "19          0    ...            0         0         0         0         0   \n",
      "20          0    ...            0         0         0         0         0   \n",
      "21          0    ...            0         0         0         0         0   \n",
      "22          0    ...            0         0         0         0         0   \n",
      "23          0    ...            0         0         0         0         0   \n",
      "24          0    ...            0         0         0         0         0   \n",
      "25          0    ...            0         0         0         0         0   \n",
      "26          0    ...            0         0         0         0         0   \n",
      "27          0    ...            0         0         0         0         0   \n",
      "28          0    ...            0         0         0         0         0   \n",
      "29          0    ...            0         0         0         0         0   \n",
      "...       ...    ...          ...       ...       ...       ...       ...   \n",
      "41970       0    ...            0         0         0         0         0   \n",
      "41971       0    ...            0         0         0         0         0   \n",
      "41972       0    ...            0         0         0         0         0   \n",
      "41973       0    ...            0         0         0         0         0   \n",
      "41974       0    ...            0         0         0         0         0   \n",
      "41975       0    ...            0         0         0         0         0   \n",
      "41976       0    ...            0         0         0         0         0   \n",
      "41977       0    ...            0         0         0         0         0   \n",
      "41978       0    ...            0         0         0         0         0   \n",
      "41979       0    ...            0         0         0         0         0   \n",
      "41980       0    ...           27       253       110         0         0   \n",
      "41981       0    ...            0         0         0         0         0   \n",
      "41982       0    ...            0         0         0         0         0   \n",
      "41983       0    ...            0         0         0         0         0   \n",
      "41984       0    ...            0         0         0         0         0   \n",
      "41985       0    ...            0         0         0         0         0   \n",
      "41986       0    ...            0         0         0         0         0   \n",
      "41987       0    ...            0         0         0         0         0   \n",
      "41988       0    ...            0         0         0         0         0   \n",
      "41989       0    ...            0         0         0         0         0   \n",
      "41990       0    ...            0         0         0         0         0   \n",
      "41991       0    ...            0         0         0         0         0   \n",
      "41992       0    ...            0         0         0         0         0   \n",
      "41993       0    ...            0         0         0         0         0   \n",
      "41994       0    ...            0         0         0         0         0   \n",
      "41995       0    ...            0         0         0         0         0   \n",
      "41996       0    ...            0         0         0         0         0   \n",
      "41997       0    ...            0         0         0         0         0   \n",
      "41998       0    ...            0         0         0         0         0   \n",
      "41999       0    ...            0         0         0         0         0   \n",
      "\n",
      "       pixel779  pixel780  pixel781  pixel782  pixel783  \n",
      "0             0         0         0         0         0  \n",
      "1             0         0         0         0         0  \n",
      "2             0         0         0         0         0  \n",
      "3             0         0         0         0         0  \n",
      "4             0         0         0         0         0  \n",
      "5             0         0         0         0         0  \n",
      "6             0         0         0         0         0  \n",
      "7             0         0         0         0         0  \n",
      "8             0         0         0         0         0  \n",
      "9             0         0         0         0         0  \n",
      "10            0         0         0         0         0  \n",
      "11            0         0         0         0         0  \n",
      "12            0         0         0         0         0  \n",
      "13            0         0         0         0         0  \n",
      "14            0         0         0         0         0  \n",
      "15            0         0         0         0         0  \n",
      "16            0         0         0         0         0  \n",
      "17            0         0         0         0         0  \n",
      "18            0         0         0         0         0  \n",
      "19            0         0         0         0         0  \n",
      "20            0         0         0         0         0  \n",
      "21            0         0         0         0         0  \n",
      "22            0         0         0         0         0  \n",
      "23            0         0         0         0         0  \n",
      "24            0         0         0         0         0  \n",
      "25            0         0         0         0         0  \n",
      "26            0         0         0         0         0  \n",
      "27            0         0         0         0         0  \n",
      "28            0         0         0         0         0  \n",
      "29            0         0         0         0         0  \n",
      "...         ...       ...       ...       ...       ...  \n",
      "41970         0         0         0         0         0  \n",
      "41971         0         0         0         0         0  \n",
      "41972         0         0         0         0         0  \n",
      "41973         0         0         0         0         0  \n",
      "41974         0         0         0         0         0  \n",
      "41975         0         0         0         0         0  \n",
      "41976         0         0         0         0         0  \n",
      "41977         0         0         0         0         0  \n",
      "41978         0         0         0         0         0  \n",
      "41979         0         0         0         0         0  \n",
      "41980         0         0         0         0         0  \n",
      "41981         0         0         0         0         0  \n",
      "41982         0         0         0         0         0  \n",
      "41983         0         0         0         0         0  \n",
      "41984         0         0         0         0         0  \n",
      "41985         0         0         0         0         0  \n",
      "41986         0         0         0         0         0  \n",
      "41987         0         0         0         0         0  \n",
      "41988         0         0         0         0         0  \n",
      "41989         0         0         0         0         0  \n",
      "41990         0         0         0         0         0  \n",
      "41991         0         0         0         0         0  \n",
      "41992         0         0         0         0         0  \n",
      "41993         0         0         0         0         0  \n",
      "41994         0         0         0         0         0  \n",
      "41995         0         0         0         0         0  \n",
      "41996         0         0         0         0         0  \n",
      "41997         0         0         0         0         0  \n",
      "41998         0         0         0         0         0  \n",
      "41999         0         0         0         0         0  \n",
      "\n",
      "[42000 rows x 785 columns]\n"
     ]
    }
   ],
   "source": [
    "print (data)"
   ]
  },
  {
   "cell_type": "code",
   "execution_count": 12,
   "metadata": {
    "collapsed": true
   },
   "outputs": [],
   "source": [
    "clf = DecisionTreeClassifier()"
   ]
  },
  {
   "cell_type": "code",
   "execution_count": 13,
   "metadata": {},
   "outputs": [
    {
     "data": {
      "text/plain": [
       "DecisionTreeClassifier(class_weight=None, criterion='gini', max_depth=None,\n",
       "            max_features=None, max_leaf_nodes=None,\n",
       "            min_impurity_split=1e-07, min_samples_leaf=1,\n",
       "            min_samples_split=2, min_weight_fraction_leaf=0.0,\n",
       "            presort=False, random_state=None, splitter='best')"
      ]
     },
     "execution_count": 13,
     "metadata": {},
     "output_type": "execute_result"
    }
   ],
   "source": [
    "xtrain = data[0:21000,1:]\n",
    "train_label = data[0:21000,0]\n",
    "clf.fit(xtrain,train_label)"
   ]
  },
  {
   "cell_type": "code",
   "execution_count": 14,
   "metadata": {
    "collapsed": true
   },
   "outputs": [],
   "source": [
    "xtest = data[21000:,1:]\n",
    "actual_label = data[21000:,0]"
   ]
  },
  {
   "cell_type": "code",
   "execution_count": 19,
   "metadata": {},
   "outputs": [
    {
     "data": {
      "image/png": "[encoded data removed]",
      "text/plain": [
       "<matplotlib.figure.Figure at 0x1ec137747f0>"
      ]
     },
     "metadata": {},
     "output_type": "display_data"
    }
   ],
   "source": [
    "d = xtest[8]\n",
    "d.shape=(28,28)\n",
    "pt.imshow(255-d,cmap='gray')\n",
    "pt.show()"
   ]
  },
  {
   "cell_type": "code",
   "execution_count": 22,
   "metadata": {},
   "outputs": [
    {
     "name": "stdout",
     "output_type": "stream",
     "text": [
      "[3]\n"
     ]
    }
   ],
   "source": [
    "print (clf.predict([xtest[8]]))"
   ]
  },
  {
   "cell_type": "code",
   "execution_count": 23,
   "metadata": {
    "collapsed": true
   },
   "outputs": [],
   "source": [
    "p = clf.predict(xtest)"
   ]
  },
  {
   "cell_type": "code",
   "execution_count": 26,
   "metadata": {},
   "outputs": [
    {
     "name": "stdout",
     "output_type": "stream",
     "text": [
      "17581\n",
      "83.71904761904761\n"
     ]
    }
   ],
   "source": [
    "count_accuracy = 0\n",
    "for i in range(0,21000):\n",
    "    count_accuracy+=1 if p[i]==actual_label[i] else 0\n",
    "print (count_accuracy)\n",
    "print ((count_accuracy/21000)*100)"
   ]
  },
  {
   "cell_type": "code",
   "execution_count": null,
   "metadata": {
    "collapsed": true
   },
   "outputs": [],
   "source": []
  }
 ],
 "metadata": {
  "kernelspec": {
   "display_name": "Python 3",
   "language": "python",
   "name": "python3"
  },
  "language_info": {
   "codemirror_mode": {
    "name": "ipython",
    "version": 3
   },
   "file_extension": ".py",
   "mimetype": "text/x-python",
   "name": "python",
   "nbconvert_exporter": "python",
   "pygments_lexer": "ipython3",
   "version": "3.6.1"
  }
 },
 "nbformat": 4,
 "nbformat_minor": 2
}
